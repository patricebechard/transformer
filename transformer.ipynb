{
 "cells": [
  {
   "cell_type": "markdown",
   "metadata": {},
   "source": [
    "# The Transformer Architecture\n",
    "\n",
    "### Todo \n",
    "* [x] Transformer (wrapper)\n",
    "* [x] Input Embedding / Output Embedding\n",
    "* [x] Positional Encoding (learned)\n",
    "* [x] EncoderBlock\n",
    "* [x] DecoderBlock\n",
    "* [x] MultiHeadAttn (Masked or not)\n",
    "* [x] ScaledDotProductAttn\n",
    "    - not sure about softmax dimension\n",
    "    - not sure about mask\n",
    "* [x] PositionWiseFeedForward\n",
    "* [x] Output Layer\n",
    "* [ ] params file (json)\n"
   ]
  },
  {
   "cell_type": "code",
   "execution_count": 1,
   "metadata": {},
   "outputs": [],
   "source": [
    "from transformer.model import Transformer\n",
    "from transformer.utils import DEVICE\n",
    "\n",
    "import torch\n",
    "from torch import nn\n",
    "import torch.nn.functional as F"
   ]
  },
  {
   "cell_type": "code",
   "execution_count": 2,
   "metadata": {},
   "outputs": [
    {
     "name": "stdout",
     "output_type": "stream",
     "text": [
      "cuda\n",
      "torch.Size([32, 100])\n",
      "Output :   torch.Size([32, 100, 30000])\n"
     ]
    }
   ],
   "source": [
    "import json\n",
    "with open(\"params.json\") as params_file:\n",
    "    params = json.load(params_file)\n",
    "    \n",
    "batch_size = params[\"batch_size\"]\n",
    "seq_len = 100\n",
    "\n",
    "print(DEVICE)\n",
    "\n",
    "data = torch.ones(batch_size, seq_len, dtype=torch.long).to(DEVICE)\n",
    "\n",
    "print(data.shape)\n",
    "\n",
    "model = Transformer(vocab_size=params[\"vocab_size\"], \n",
    "                    d_model=params[\"d_model\"],\n",
    "                    n_layers=params[\"n_layers\"],\n",
    "                    n_heads=params[\"n_heads\"],\n",
    "                    d_ff=params[\"d_ff\"],\n",
    "                    max_length=params[\"max_length\"]).to(DEVICE)\n",
    "\n",
    "output = model(encoder_in=data, decoder_in=data)\n",
    "print(\"Output :  \", output.shape)"
   ]
  },
  {
   "cell_type": "code",
   "execution_count": null,
   "metadata": {},
   "outputs": [],
   "source": []
  }
 ],
 "metadata": {
  "kernelspec": {
   "display_name": "Python 3",
   "language": "python",
   "name": "python3"
  },
  "language_info": {
   "codemirror_mode": {
    "name": "ipython",
    "version": 3
   },
   "file_extension": ".py",
   "mimetype": "text/x-python",
   "name": "python",
   "nbconvert_exporter": "python",
   "pygments_lexer": "ipython3",
   "version": "3.6.4"
  }
 },
 "nbformat": 4,
 "nbformat_minor": 2
}
