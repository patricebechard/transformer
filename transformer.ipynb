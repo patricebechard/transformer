{
 "cells": [
  {
   "cell_type": "markdown",
   "metadata": {},
   "source": [
    "# The Transformer Architecture\n",
    "\n",
    "### Todo \n",
    "* [x] Transformer (wrapper)\n",
    "* [x] Input Embedding / Output Embedding\n",
    "* [x] Positional Encoding (learned)\n",
    "* [x] EncoderBlock\n",
    "* [x] DecoderBlock\n",
    "* [x] MultiHeadAttn (Masked or not)\n",
    "* [x] ScaledDotProductAttn\n",
    "    - not sure about softmax dimension\n",
    "    - not sure about mask\n",
    "* [x] PositionWiseFeedForward\n",
    "* [x] Output Layer\n",
    "* [x] params file (json)\n"
   ]
  },
  {
   "cell_type": "code",
   "execution_count": 5,
   "metadata": {},
   "outputs": [],
   "source": [
    "from transformer.model import Transformer\n",
    "from transformer.utils import DEVICE\n",
    "\n",
    "import torch\n",
    "from torch import nn\n",
    "import torch.nn.functional as F\n",
    "from torch import optim"
   ]
  },
  {
   "cell_type": "code",
   "execution_count": 2,
   "metadata": {},
   "outputs": [
    {
     "name": "stdout",
     "output_type": "stream",
     "text": [
      "cuda\n",
      "torch.Size([32, 100])\n",
      "Output :   torch.Size([32, 100, 30000])\n"
     ]
    }
   ],
   "source": [
    "import json\n",
    "with open(\"params.json\") as params_file:\n",
    "    params = json.load(params_file)\n",
    "    \n",
    "batch_size = params[\"batch_size\"]\n",
    "seq_len = 100\n",
    "\n",
    "print(DEVICE)\n",
    "\n",
    "data = torch.ones(batch_size, seq_len, dtype=torch.long).to(DEVICE)\n",
    "\n",
    "print(data.shape)\n",
    "\n",
    "model = Transformer(vocab_size=params[\"vocab_size\"], \n",
    "                    d_model=params[\"d_model\"],\n",
    "                    n_layers=params[\"n_layers\"],\n",
    "                    n_heads=params[\"n_heads\"],\n",
    "                    d_ff=params[\"d_ff\"],\n",
    "                    max_length=params[\"max_length\"]).to(DEVICE)\n",
    "\n",
    "output = model(encoder_in=data, decoder_in=data)\n",
    "print(\"Output :  \", output.shape)"
   ]
  },
  {
   "cell_type": "code",
   "execution_count": 6,
   "metadata": {},
   "outputs": [],
   "source": [
    "def adjust_learning_rate(optimizer, d_model, step_num, warmup_steps=4000):\n",
    "\n",
    "    lr = d_model**(-0.5) * min(step_num**(-0.5), step_num * warmup_steps**(-1.5))\n",
    "    for param_group in optimizer.param_groups:\n",
    "        param_group['lr'] = lr"
   ]
  },
  {
   "cell_type": "code",
   "execution_count": 19,
   "metadata": {},
   "outputs": [],
   "source": [
    "optimizer = optim.Adam(model.parameters(), lr=1e-3, betas=(params[\"beta_1\"], params[\"beta_2\"]), eps=params[\"epsilon\"])\n",
    "\n",
    "lr_list = []\n",
    "for steps in range(1, 100000):\n",
    "    adjust_learning_rate(optimizer, params[\"d_model\"], steps)\n",
    "    for param_group in optimizer.param_groups:\n",
    "        lr_list.append(param_group[\"lr\"])\n"
   ]
  },
  {
   "cell_type": "code",
   "execution_count": 20,
   "metadata": {},
   "outputs": [
    {
     "data": {
      "image/png": "[encoded data removed]",
      "text/plain": [
       "<Figure size 432x288 with 1 Axes>"
      ]
     },
     "metadata": {
      "needs_background": "light"
     },
     "output_type": "display_data"
    }
   ],
   "source": [
    "%matplotlib inline\n",
    "import matplotlib.pyplot as plt\n",
    "\n",
    "plt.plot(lr_list)\n",
    "plt.show()"
   ]
  },
  {
   "cell_type": "code",
   "execution_count": null,
   "metadata": {},
   "outputs": [],
   "source": []
  }
 ],
 "metadata": {
  "kernelspec": {
   "display_name": "Python 3 (PyTorch)",
   "language": "python",
   "name": "pytorch"
  },
  "language_info": {
   "codemirror_mode": {
    "name": "ipython",
    "version": 3
   },
   "file_extension": ".py",
   "mimetype": "text/x-python",
   "name": "python",
   "nbconvert_exporter": "python",
   "pygments_lexer": "ipython3",
   "version": "3.6.6"
  }
 },
 "nbformat": 4,
 "nbformat_minor": 2
}
